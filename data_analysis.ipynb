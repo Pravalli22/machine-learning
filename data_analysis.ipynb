

import numpy as np 
import pandas as pd 
import seaborn as sns 
import matplotlib.pyplot as plt

df=pd.read_csv("/content/1_raw_data_13-12_22.03.16.txt",sep='\t')
print(df)


fig=plt.figure()
ax = fig.add_subplot(1,1,1)
ax.hist(df['time'],bins = 5)
plt.title('Time')

plt.show()



